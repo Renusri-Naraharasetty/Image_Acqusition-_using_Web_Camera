{
 "cells": [
  {
   "cell_type": "markdown",
   "id": "b419027b",
   "metadata": {},
   "source": [
    "## EXP 2\n",
    "\n",
    "# Image Acqusition using web camera\n",
    "\n",
    "\n",
    "Name: Renusri Naraharashetty\n",
    "    \n",
    "Reg No: 212223240139"
   ]
  },
  {
   "cell_type": "code",
   "execution_count": 5,
   "id": "a29611db",
   "metadata": {},
   "outputs": [
    {
     "name": "stdout",
     "output_type": "stream",
     "text": [
      "Image saved as web.jpg\n"
     ]
    }
   ],
   "source": [
    "# i) Write the frame as JPG file\n",
    "\n",
    "import cv2\n",
    "videoCaptureObject = cv2.VideoCapture(0)\n",
    "ret, frame = videoCaptureObject.read()\n",
    "if ret:\n",
    "    cv2.imwrite(\"web.jpg\", frame)\n",
    "    print(\"Image saved as web.jpg\")\n",
    "else:\n",
    "    print(\"Failed to capture image\")\n",
    "videoCaptureObject.release()\n",
    "cv2.destroyAllWindows()\n"
   ]
  },
  {
   "cell_type": "code",
   "execution_count": 6,
   "id": "be273717",
   "metadata": {},
   "outputs": [],
   "source": [
    "# ii) Display the video\n",
    "\n",
    "videoCaptureObject = cv2.VideoCapture(0)\n",
    "while True:\n",
    "    ret, frame = videoCaptureObject.read()\n",
    "    cv2.imshow('myimage', frame)\n",
    "    if cv2.waitKey(1) & 0xFF == ord('q'):\n",
    "        break\n",
    "videoCaptureObject.release()\n",
    "cv2.destroyAllWindows()"
   ]
  },
  {
   "cell_type": "code",
   "execution_count": 7,
   "id": "c092f595",
   "metadata": {},
   "outputs": [],
   "source": [
    "# iii) Display the video by resizing the window\n",
    "\n",
    "import numpy as np\n",
    "cap = cv2.VideoCapture(0)q\n",
    "while True:\n",
    "    ret, frame = cap.read() \n",
    "    width = int(cap.get(3))\n",
    "    height = int(cap.get(4))\n",
    "    image = np.zeros(frame.shape, np.uint8) \n",
    "    smaller_frame = cv2.resize(frame, (0,0), fx = 0.5, fy=0.5) \n",
    "    image[:height//2, :width//2] = smaller_frame\n",
    "    image[height//2:, :width//2] = smaller_frame\n",
    "    image[:height//2, width//2:] = smaller_frame \n",
    "    image [height//2:, width//2:] = smaller_frame\n",
    "    cv2.imshow('myimage', image)\n",
    "    if cv2.waitKey(1) == ord('q'):\n",
    "        break\n",
    "cap.release()\n",
    "cv2.destroyAllWindows()"
   ]
  },
  {
   "cell_type": "code",
   "execution_count": 8,
   "id": "5b6a4822",
   "metadata": {},
   "outputs": [],
   "source": [
    "# iv) Rotate and display the video\n",
    "\n",
    "import numpy as np\n",
    "cap = cv2.VideoCapture(0)\n",
    "while True:\n",
    "    ret, frame = cap.read() \n",
    "    width = int(cap.get(3))\n",
    "    height = int(cap.get(4))\n",
    "    image = np.zeros(frame.shape, np.uint8) \n",
    "    smaller_frame = cv2.resize(frame, (0,0), fx = 0.5, fy=0.5) \n",
    "    image[:height//2, :width//2] = cv2.rotate(smaller_frame,cv2.ROTATE_180)\n",
    "    image[height//2:, :width//2] = cv2.rotate(smaller_frame,cv2.ROTATE_180)\n",
    "    image[:height//2, width//2:] = smaller_frame \n",
    "    image [height//2:, width//2:] = smaller_frame\n",
    "    cv2.imshow('myimage', image)\n",
    "    if cv2.waitKey(1) == ord('q'):\n",
    "        break\n",
    "cap.release()\n",
    "cv2.destroyAllWindows()"
   ]
  },
  {
   "cell_type": "code",
   "execution_count": null,
   "id": "ff421c4f",
   "metadata": {},
   "outputs": [],
   "source": []
  }
 ],
 "metadata": {
  "kernelspec": {
   "display_name": "Python 3 (ipykernel)",
   "language": "python",
   "name": "python3"
  },
  "language_info": {
   "codemirror_mode": {
    "name": "ipython",
    "version": 3
   },
   "file_extension": ".py",
   "mimetype": "text/x-python",
   "name": "python",
   "nbconvert_exporter": "python",
   "pygments_lexer": "ipython3",
   "version": "3.11.3"
  }
 },
 "nbformat": 4,
 "nbformat_minor": 5
}
